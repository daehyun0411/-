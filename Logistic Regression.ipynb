{
 "cells": [
  {
   "cell_type": "markdown",
   "metadata": {},
   "source": [
    "# Logistic Regression"
   ]
  },
  {
   "cell_type": "markdown",
   "metadata": {},
   "source": [
    "## Overview"
   ]
  },
  {
   "cell_type": "markdown",
   "metadata": {},
   "source": [
    "### Logistic Regression Classifier"
   ]
  },
  {
   "cell_type": "markdown",
   "metadata": {},
   "source": [
    "#### 기존 접근의 문제점들  \n",
    "- 1이상 또는 0이하의 수들이 나오는 걸 어떻게 해석?  \n",
    "- 1 또는 0으로 정확히 표현 가능한가?  \n",
    "- 변수가 Y에 영향을 주는 정도가 비례하는 가?  \n",
    "- 확률로 발생할 사건의 가능성을 표현해야 함  \n",
    "\n",
    "#### Solution  \n",
    "**확률로 나타내자!**"
   ]
  },
  {
   "cell_type": "markdown",
   "metadata": {},
   "source": [
    "## Sigmoid function"
   ]
  },
  {
   "cell_type": "markdown",
   "metadata": {},
   "source": [
    "### 분류의 가능성을 확률로 얘기하기"
   ]
  },
  {
   "cell_type": "markdown",
   "metadata": {},
   "source": [
    "### Odds Ratio  \n",
    "- 해당 사건이 일어날 확률과 일어나지 않을 확률의 비율"
   ]
  },
  {
   "cell_type": "markdown",
   "metadata": {},
   "source": [
    "### Logit function  \n",
    "- X의 값이 주어졌을 때 y의 확률을 이용한 log odds"
   ]
  },
  {
   "cell_type": "markdown",
   "metadata": {},
   "source": [
    "### Sigmoid(=Logistic) Function  \n",
    "- Logit 함수의 역함수로 z에 관한 확률을 산출  \n",
    "- Logistic Function = Inverse of logit function  \n",
    "- 미분가능한 연속구간으로 변환  \n",
    "- S형태로 닮았다고 하여 sigmoid function으로 호칭  \n",
    "- 선형함수에서 sigmoid function으로 변환"
   ]
  },
  {
   "cell_type": "markdown",
   "metadata": {},
   "source": [
    "## Cost function"
   ]
  },
  {
   "cell_type": "markdown",
   "metadata": {},
   "source": [
    "### Partial derivation of cost function"
   ]
  },
  {
   "cell_type": "markdown",
   "metadata": {},
   "source": [
    "### Weight update"
   ]
  }
 ],
 "metadata": {
  "kernelspec": {
   "display_name": "Python 3",
   "language": "python",
   "name": "python3"
  },
  "language_info": {
   "codemirror_mode": {
    "name": "ipython",
    "version": 3
   },
   "file_extension": ".py",
   "mimetype": "text/x-python",
   "name": "python",
   "nbconvert_exporter": "python",
   "pygments_lexer": "ipython3",
   "version": "3.7.6"
  }
 },
 "nbformat": 4,
 "nbformat_minor": 4
}
